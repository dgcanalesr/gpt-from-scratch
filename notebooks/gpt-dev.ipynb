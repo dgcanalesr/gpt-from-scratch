{
 "cells": [
  {
   "cell_type": "markdown",
   "id": "928de308",
   "metadata": {},
   "source": [
    "# GPT-dev\n",
    "\n",
    "Notebook for developing first steps into building GPT from scratch."
   ]
  },
  {
   "cell_type": "markdown",
   "id": "b6590196",
   "metadata": {},
   "source": [
    "### Imports"
   ]
  },
  {
   "cell_type": "code",
   "execution_count": 1,
   "id": "628580aa",
   "metadata": {},
   "outputs": [],
   "source": [
    "import os\n",
    "import torch\n",
    "import torch.nn as nn\n",
    "from torch.nn import functional as F"
   ]
  },
  {
   "cell_type": "markdown",
   "id": "8892ab6a",
   "metadata": {},
   "source": [
    "### Data Loading\n",
    "\n",
    "Downloading Tiny Sheakespeare Dataset for a light version training of GPT:"
   ]
  },
  {
   "cell_type": "code",
   "execution_count": 2,
   "id": "647b9531",
   "metadata": {},
   "outputs": [
    {
     "name": "stdout",
     "output_type": "stream",
     "text": [
      "--2023-10-17 03:58:55--  https://raw.githubusercontent.com/karpathy/char-rnn/master/data/tinyshakespeare/input.txt\n",
      "Resolving raw.githubusercontent.com (raw.githubusercontent.com)... 2606:50c0:8000::154, 2606:50c0:8001::154, 2606:50c0:8002::154, ...\n",
      "Connecting to raw.githubusercontent.com (raw.githubusercontent.com)|2606:50c0:8000::154|:443... connected.\n",
      "HTTP request sent, awaiting response... 200 OK\n",
      "Length: 1115394 (1,1M) [text/plain]\n",
      "Saving to: ‘input.txt’\n",
      "\n",
      "input.txt           100%[===================>]   1,06M  --.-KB/s    in 0,1s    \n",
      "\n",
      "2023-10-17 03:58:55 (8,39 MB/s) - ‘input.txt’ saved [1115394/1115394]\n",
      "\n"
     ]
    }
   ],
   "source": [
    "!wget https://raw.githubusercontent.com/karpathy/char-rnn/master/data/tinyshakespeare/input.txt\n"
   ]
  },
  {
   "cell_type": "code",
   "execution_count": 3,
   "id": "adeae44d",
   "metadata": {},
   "outputs": [],
   "source": [
    "if not os.path.exists(\"../data\"):\n",
    "    os.makedirs(\"../data\")"
   ]
  },
  {
   "cell_type": "code",
   "execution_count": 4,
   "id": "726985a5",
   "metadata": {},
   "outputs": [],
   "source": [
    "!mv input.txt ../data/"
   ]
  },
  {
   "cell_type": "markdown",
   "id": "e90ca8a1",
   "metadata": {},
   "source": [
    "### Data Inspection"
   ]
  },
  {
   "cell_type": "code",
   "execution_count": 5,
   "id": "093d92f2",
   "metadata": {},
   "outputs": [],
   "source": [
    "with open(\"../data/input.txt\", \"r\", encoding=\"utf-8\") as f:\n",
    "    text = f.read()"
   ]
  },
  {
   "cell_type": "markdown",
   "id": "c5817410",
   "metadata": {},
   "source": [
    "Datset length in characters:"
   ]
  },
  {
   "cell_type": "code",
   "execution_count": 6,
   "id": "7cd836bc",
   "metadata": {},
   "outputs": [
    {
     "data": {
      "text/plain": [
       "1115394"
      ]
     },
     "execution_count": 6,
     "metadata": {},
     "output_type": "execute_result"
    }
   ],
   "source": [
    "len(text)"
   ]
  },
  {
   "cell_type": "markdown",
   "id": "e6bca06e",
   "metadata": {},
   "source": [
    "First 200 characters:"
   ]
  },
  {
   "cell_type": "code",
   "execution_count": 7,
   "id": "4887452d",
   "metadata": {},
   "outputs": [
    {
     "name": "stdout",
     "output_type": "stream",
     "text": [
      "First Citizen:\n",
      "Before we proceed any further, hear me speak.\n",
      "\n",
      "All:\n",
      "Speak, speak.\n",
      "\n",
      "First Citizen:\n",
      "You are all resolved rather to die than to famish?\n",
      "\n",
      "All:\n",
      "Resolved. resolved.\n",
      "\n",
      "First Citizen:\n",
      "First, you\n"
     ]
    }
   ],
   "source": [
    "print(text[:200])"
   ]
  },
  {
   "cell_type": "markdown",
   "id": "33e4a167",
   "metadata": {},
   "source": [
    "Unique characters:"
   ]
  },
  {
   "cell_type": "code",
   "execution_count": 8,
   "id": "16a01520",
   "metadata": {},
   "outputs": [
    {
     "data": {
      "text/plain": [
       "65"
      ]
     },
     "execution_count": 8,
     "metadata": {},
     "output_type": "execute_result"
    }
   ],
   "source": [
    "chars = sorted(list(set(text)))\n",
    "len(chars)"
   ]
  },
  {
   "cell_type": "code",
   "execution_count": 9,
   "id": "4961a4cd",
   "metadata": {},
   "outputs": [
    {
     "data": {
      "text/plain": [
       "\"\\n !$&',-.3:;?ABCDEFGHIJKLMNOPQRSTUVWXYZabcdefghijklmnopqrstuvwxyz\""
      ]
     },
     "execution_count": 9,
     "metadata": {},
     "output_type": "execute_result"
    }
   ],
   "source": [
    "\"\".join(chars)"
   ]
  },
  {
   "cell_type": "markdown",
   "id": "28650b4a",
   "metadata": {},
   "source": [
    "### Text Tokenization\n",
    "\n",
    "Translate characters to integers in a simple manner:\n",
    "> OpenAI uses [tiktoken](https://github.com/openai/tiktoken)"
   ]
  },
  {
   "cell_type": "code",
   "execution_count": 10,
   "id": "03f5e002",
   "metadata": {},
   "outputs": [],
   "source": [
    "str_to_int_dict = {ch:i for i,ch in enumerate(chars)}\n",
    "int_to_str_dict = {i:ch for i,ch in enumerate(chars)}\n",
    "\n",
    "def encode(string):\n",
    "    return [str_to_int_dict[char] for char in string]\n",
    "\n",
    "def decode(list_of_int):\n",
    "    return \"\".join([int_to_str_dict[i] for i in list_of_int])"
   ]
  },
  {
   "cell_type": "code",
   "execution_count": 11,
   "id": "c0533006",
   "metadata": {},
   "outputs": [
    {
     "data": {
      "text/plain": [
       "[46, 43, 50, 50, 53, 1, 61, 53, 56, 50, 42]"
      ]
     },
     "execution_count": 11,
     "metadata": {},
     "output_type": "execute_result"
    }
   ],
   "source": [
    "encode(\"hello world\")"
   ]
  },
  {
   "cell_type": "code",
   "execution_count": 12,
   "id": "8e226148",
   "metadata": {},
   "outputs": [
    {
     "data": {
      "text/plain": [
       "'hello world'"
      ]
     },
     "execution_count": 12,
     "metadata": {},
     "output_type": "execute_result"
    }
   ],
   "source": [
    "decode([46, 43, 50, 50, 53, 1, 61, 53, 56, 50, 42])"
   ]
  },
  {
   "cell_type": "code",
   "execution_count": 13,
   "id": "c2bf9561",
   "metadata": {},
   "outputs": [
    {
     "name": "stdout",
     "output_type": "stream",
     "text": [
      "torch.Size([1115394]) torch.int64\n"
     ]
    }
   ],
   "source": [
    "data = torch.tensor(encode(text), dtype=torch.long)\n",
    "print(data.shape, data.dtype)"
   ]
  },
  {
   "cell_type": "markdown",
   "id": "2e1317d2",
   "metadata": {},
   "source": [
    "First 100 encoded characters:"
   ]
  },
  {
   "cell_type": "code",
   "execution_count": 14,
   "id": "fde56bbb",
   "metadata": {},
   "outputs": [
    {
     "data": {
      "text/plain": [
       "tensor([18, 47, 56, 57, 58,  1, 15, 47, 58, 47, 64, 43, 52, 10,  0, 14, 43, 44,\n",
       "        53, 56, 43,  1, 61, 43,  1, 54, 56, 53, 41, 43, 43, 42,  1, 39, 52, 63,\n",
       "         1, 44, 59, 56, 58, 46, 43, 56,  6,  1, 46, 43, 39, 56,  1, 51, 43,  1,\n",
       "        57, 54, 43, 39, 49,  8,  0,  0, 13, 50, 50, 10,  0, 31, 54, 43, 39, 49,\n",
       "         6,  1, 57, 54, 43, 39, 49,  8,  0,  0, 18, 47, 56, 57, 58,  1, 15, 47,\n",
       "        58, 47, 64, 43, 52, 10,  0, 37, 53, 59])"
      ]
     },
     "execution_count": 14,
     "metadata": {},
     "output_type": "execute_result"
    }
   ],
   "source": [
    "data[:100]"
   ]
  },
  {
   "cell_type": "markdown",
   "id": "667e7b8c",
   "metadata": {},
   "source": [
    "### Data Split\n",
    "\n",
    "Train and test sets (90/10%):"
   ]
  },
  {
   "cell_type": "code",
   "execution_count": 15,
   "id": "24b7b592",
   "metadata": {},
   "outputs": [],
   "source": [
    "n = int(0.9*len(data))\n",
    "\n",
    "train_data = data[:n]\n",
    "test_data = data[n:]"
   ]
  },
  {
   "cell_type": "markdown",
   "id": "ece29cc5",
   "metadata": {},
   "source": [
    "### Data Loader\n",
    "\n",
    "Generate batches of chunks of data:"
   ]
  },
  {
   "cell_type": "code",
   "execution_count": 16,
   "id": "5683f200",
   "metadata": {},
   "outputs": [
    {
     "name": "stdout",
     "output_type": "stream",
     "text": [
      "when input is tensor([18]) the target: 47\n",
      "when input is tensor([18, 47]) the target: 56\n",
      "when input is tensor([18, 47, 56]) the target: 57\n",
      "when input is tensor([18, 47, 56, 57]) the target: 58\n",
      "when input is tensor([18, 47, 56, 57, 58]) the target: 1\n",
      "when input is tensor([18, 47, 56, 57, 58,  1]) the target: 15\n",
      "when input is tensor([18, 47, 56, 57, 58,  1, 15]) the target: 47\n",
      "when input is tensor([18, 47, 56, 57, 58,  1, 15, 47]) the target: 58\n"
     ]
    }
   ],
   "source": [
    "#Example\n",
    "block_size = 8\n",
    "x = train_data[:block_size]\n",
    "y = train_data[1:block_size+1]\n",
    "for t in range(block_size):\n",
    "    context = x[:t+1]\n",
    "    target = y[t]\n",
    "    print(f\"when input is {context} the target: {target}\")"
   ]
  },
  {
   "cell_type": "code",
   "execution_count": 17,
   "id": "96be642d",
   "metadata": {},
   "outputs": [],
   "source": [
    "torch.manual_seed(77)\n",
    "\n",
    "batch_size = 4\n",
    "block_size = 8\n",
    "\n",
    "def get_batch(split: str):\n",
    "    \n",
    "    if split == \"train\":\n",
    "        data = train_data\n",
    "    elif split == \"val\":\n",
    "        data = val_data\n",
    "    else:\n",
    "        return\n",
    "    \n",
    "    ix = torch.randint(len(data) - block_size, (batch_size,))\n",
    "    x = torch.stack([data[i:i+block_size] for i in ix])\n",
    "    y = torch.stack([data[i+1:i+block_size+1] for i in ix])\n",
    "    return x, y"
   ]
  },
  {
   "cell_type": "code",
   "execution_count": 18,
   "id": "9dfd7430",
   "metadata": {},
   "outputs": [
    {
     "name": "stdout",
     "output_type": "stream",
     "text": [
      "Inputs: torch.Size([4, 8])\n",
      "tensor([[ 1, 51, 39, 56, 56, 47, 43, 42],\n",
      "        [33, 24, 21, 17, 32, 10,  0, 21],\n",
      "        [ 0,  0, 15, 24, 13, 30, 17, 26],\n",
      "        [42,  1, 39, 52, 42,  1, 57, 43]])\n",
      "Outputs: torch.Size([4, 8])\n",
      "tensor([[51, 39, 56, 56, 47, 43, 42,  1],\n",
      "        [24, 21, 17, 32, 10,  0, 21,  1],\n",
      "        [ 0, 15, 24, 13, 30, 17, 26, 15],\n",
      "        [ 1, 39, 52, 42,  1, 57, 43, 39]])\n"
     ]
    }
   ],
   "source": [
    "xb, yb = get_batch(\"train\")\n",
    "\n",
    "print(\"Inputs:\", xb.shape)\n",
    "print(xb)\n",
    "\n",
    "print(\"Outputs:\", yb.shape)\n",
    "print(yb)"
   ]
  },
  {
   "cell_type": "markdown",
   "id": "d1857ce1",
   "metadata": {},
   "source": [
    "Input-target pairs:"
   ]
  },
  {
   "cell_type": "code",
   "execution_count": 19,
   "id": "bebb156f",
   "metadata": {},
   "outputs": [
    {
     "name": "stdout",
     "output_type": "stream",
     "text": [
      "When input is [1] the target: 51\n",
      "When input is [1, 51] the target: 39\n",
      "When input is [1, 51, 39] the target: 56\n",
      "When input is [1, 51, 39, 56] the target: 56\n",
      "When input is [1, 51, 39, 56, 56] the target: 47\n",
      "When input is [1, 51, 39, 56, 56, 47] the target: 43\n",
      "When input is [1, 51, 39, 56, 56, 47, 43] the target: 42\n",
      "When input is [1, 51, 39, 56, 56, 47, 43, 42] the target: 1\n",
      "When input is [33] the target: 24\n",
      "When input is [33, 24] the target: 21\n",
      "When input is [33, 24, 21] the target: 17\n",
      "When input is [33, 24, 21, 17] the target: 32\n",
      "When input is [33, 24, 21, 17, 32] the target: 10\n",
      "When input is [33, 24, 21, 17, 32, 10] the target: 0\n",
      "When input is [33, 24, 21, 17, 32, 10, 0] the target: 21\n",
      "When input is [33, 24, 21, 17, 32, 10, 0, 21] the target: 1\n",
      "When input is [0] the target: 0\n",
      "When input is [0, 0] the target: 15\n",
      "When input is [0, 0, 15] the target: 24\n",
      "When input is [0, 0, 15, 24] the target: 13\n",
      "When input is [0, 0, 15, 24, 13] the target: 30\n",
      "When input is [0, 0, 15, 24, 13, 30] the target: 17\n",
      "When input is [0, 0, 15, 24, 13, 30, 17] the target: 26\n",
      "When input is [0, 0, 15, 24, 13, 30, 17, 26] the target: 15\n",
      "When input is [42] the target: 1\n",
      "When input is [42, 1] the target: 39\n",
      "When input is [42, 1, 39] the target: 52\n",
      "When input is [42, 1, 39, 52] the target: 42\n",
      "When input is [42, 1, 39, 52, 42] the target: 1\n",
      "When input is [42, 1, 39, 52, 42, 1] the target: 57\n",
      "When input is [42, 1, 39, 52, 42, 1, 57] the target: 43\n",
      "When input is [42, 1, 39, 52, 42, 1, 57, 43] the target: 39\n"
     ]
    }
   ],
   "source": [
    "for b in range(batch_size): # batch dimension\n",
    "    for t in range(block_size): # time dimension\n",
    "        context = xb[b, :t+1]\n",
    "        target = yb[b,t]\n",
    "        print(f\"When input is {context.tolist()} the target: {target}\")"
   ]
  },
  {
   "cell_type": "markdown",
   "id": "cd99938e",
   "metadata": {},
   "source": [
    "### Baseline\n",
    "Bigram Language Model"
   ]
  },
  {
   "cell_type": "code",
   "execution_count": 20,
   "id": "931220b1",
   "metadata": {},
   "outputs": [],
   "source": [
    "torch.manual_seed(77)\n",
    "\n",
    "class BigramLanguageModel(nn.Module):\n",
    "    \n",
    "    def __init__(self, vocab_size):\n",
    "        super().__init__()\n",
    "        self.token_embedding_table = nn.Embedding(vocab_size, vocab_size)\n",
    "        \n",
    "    def forward(self, idx, targets=None):\n",
    "        \n",
    "        logits = self.token_embedding_table(idx) #(B,T,C)\n",
    "        \n",
    "        if targets is None:\n",
    "            loss = None\n",
    "        else:     \n",
    "            B, T, C = logits.shape\n",
    "            logits = logits.view(B*T, C) # (B*T,C)\n",
    "            targets = targets.view(B*T)\n",
    "\n",
    "            loss = F.cross_entropy(logits, targets)\n",
    "        \n",
    "        return logits, loss\n",
    "    \n",
    "    def generate(self, idx, max_new_tokens):\n",
    "        \n",
    "        # idx is (B,T) array of indices in the current context\n",
    "        for _ in range(max_new_tokens):\n",
    "            \n",
    "            # get predictions\n",
    "            logits, loss = self(idx)\n",
    "            \n",
    "            # focus only on the last time step\n",
    "            logits = logits[:, -1, :] #(B,C)\n",
    "            probs = F.softmax(logits, dim=-1)\n",
    "            \n",
    "            # sample from distribution\n",
    "            idx_next = torch.multinomial(probs, num_samples=1) #(B,1)\n",
    "            idx = torch.cat((idx, idx_next), dim=1) #(B,T+1)\n",
    "        return idx\n",
    "            "
   ]
  },
  {
   "cell_type": "code",
   "execution_count": 21,
   "id": "dbc6c32e",
   "metadata": {},
   "outputs": [
    {
     "name": "stdout",
     "output_type": "stream",
     "text": [
      "torch.Size([32, 65])\n",
      "tensor(4.7358, grad_fn=<NllLossBackward0>)\n"
     ]
    }
   ],
   "source": [
    "vocab_size = len(chars)\n",
    "m = BigramLanguageModel(vocab_size)\n",
    "\n",
    "logits, loss = m(xb, yb)\n",
    "print(logits.shape)\n",
    "print(loss)"
   ]
  },
  {
   "cell_type": "code",
   "execution_count": 22,
   "id": "4c7d0d53",
   "metadata": {},
   "outputs": [
    {
     "name": "stdout",
     "output_type": "stream",
     "text": [
      "\n",
      "CuRTR;rF&xcn?ttd.o:xnDYUxTlN$?;&gLJ Yf-&UGhd.K,MmdzkFIRrn!DRdqKMgGfrbM3muNxfP&ZCKL?jKZWIfeweQNze3WI;\n"
     ]
    }
   ],
   "source": [
    "idx = torch.zeros((1,1), dtype=torch.long)\n",
    "gen_m = m.generate(idx, max_new_tokens=100)[0].tolist()\n",
    "print(decode(gen_m))"
   ]
  },
  {
   "cell_type": "markdown",
   "id": "c4fcbb68",
   "metadata": {},
   "source": [
    "Training:"
   ]
  },
  {
   "cell_type": "code",
   "execution_count": 23,
   "id": "4cff4522",
   "metadata": {
    "scrolled": true
   },
   "outputs": [
    {
     "name": "stdout",
     "output_type": "stream",
     "text": [
      "3.6724908351898193\n"
     ]
    }
   ],
   "source": [
    "optimizer = torch.optim.AdamW(m.parameters(), lr=1e-3)\n",
    "batch_size = 32\n",
    "n_steps = 1000\n",
    "\n",
    "for steps in range(n_steps):\n",
    "    \n",
    "    # batch of data\n",
    "    xb, yb = get_batch(\"train\")\n",
    "    \n",
    "    # evaluate loss\n",
    "    logits, loss = m(xb, yb)\n",
    "    optimizer.zero_grad(set_to_none=True)\n",
    "    loss.backward()\n",
    "    optimizer.step()\n",
    "    \n",
    "print(loss.item())"
   ]
  },
  {
   "cell_type": "markdown",
   "id": "7496446a",
   "metadata": {},
   "source": [
    "Generation:"
   ]
  },
  {
   "cell_type": "code",
   "execution_count": 24,
   "id": "063c3351",
   "metadata": {},
   "outputs": [
    {
     "name": "stdout",
     "output_type": "stream",
     "text": [
      "\n",
      "EtVc!&XirBfmYWo:u?fwrD3FZ-oT?:UvilKw3a\n",
      "A.w-o jjURKielK,bNOL.Tf gNOfcCh oEI;M.JILvT?msosteQE$uaXVy f-Sh-Ed taQNIAm:ggLnJyWuvV:Tj;rt haGonqGyyH rw3NnatRAcliSYWHl$ fakDcYWrNDAPEggv;WucVazQ:xE$&:VJe'nPkFs.L gq&SKY cBbh3ORcBTh .GRuvecZewVQVats.Z-m:ND&QJPJvdz;rQoHlSLV&kDJVmF&'d yE. YWs.LVHE$f btNace?:\n",
      "BQt\n"
     ]
    }
   ],
   "source": [
    "idx = torch.zeros((1,1), dtype=torch.long)\n",
    "gen_m = m.generate(idx, max_new_tokens=300)[0].tolist()\n",
    "print(decode(gen_m))"
   ]
  },
  {
   "cell_type": "markdown",
   "id": "e8664153",
   "metadata": {},
   "source": [
    "### Self-attention\n",
    "Mathematical trick:\n",
    "- Matrix multiplication\n",
    "- Softmax"
   ]
  },
  {
   "cell_type": "code",
   "execution_count": 25,
   "id": "a43802fb",
   "metadata": {},
   "outputs": [
    {
     "data": {
      "text/plain": [
       "torch.Size([4, 8, 2])"
      ]
     },
     "execution_count": 25,
     "metadata": {},
     "output_type": "execute_result"
    }
   ],
   "source": [
    "# Example\n",
    "torch.manual_seed(77)\n",
    "\n",
    "B,T,C = 4,8,2\n",
    "x = torch.rand(B,T,C)\n",
    "x.shape"
   ]
  },
  {
   "cell_type": "code",
   "execution_count": 26,
   "id": "644f54a9",
   "metadata": {},
   "outputs": [
    {
     "data": {
      "text/plain": [
       "torch.Size([4, 8, 2])"
      ]
     },
     "execution_count": 26,
     "metadata": {},
     "output_type": "execute_result"
    }
   ],
   "source": [
    "# We want x[b,t] = mean_{i<=t} x[b,i]\n",
    "xbow = torch.zeros((B,T,C))\n",
    "for b in range(B):\n",
    "    for t in range(T):\n",
    "        xprev = x[b, :t+1] #(t,C)\n",
    "        xbow[b,t] = torch.mean(xprev,0)\n",
    "        \n",
    "xbow.shape"
   ]
  },
  {
   "cell_type": "code",
   "execution_count": 27,
   "id": "5dc24080",
   "metadata": {},
   "outputs": [
    {
     "name": "stdout",
     "output_type": "stream",
     "text": [
      "a=\n",
      "tensor([[1.0000, 0.0000, 0.0000],\n",
      "        [0.5000, 0.5000, 0.0000],\n",
      "        [0.3333, 0.3333, 0.3333]])\n",
      "b=\n",
      "tensor([[5., 5.],\n",
      "        [8., 6.],\n",
      "        [7., 7.]])\n",
      "c=\n",
      "tensor([[5.0000, 5.0000],\n",
      "        [6.5000, 5.5000],\n",
      "        [6.6667, 6.0000]])\n"
     ]
    }
   ],
   "source": [
    "torch.manual_seed(77)\n",
    "a = torch.tril(torch.ones(3,3))\n",
    "a = a / torch.sum(a, dim=1, keepdim=True)\n",
    "b = torch.randint(0, 10, (3,2)).float()\n",
    "c = a @ b\n",
    "print(\"a=\")\n",
    "print(a)\n",
    "print(\"b=\")\n",
    "print(b)\n",
    "print(\"c=\")\n",
    "print(c)"
   ]
  },
  {
   "cell_type": "code",
   "execution_count": 28,
   "id": "4dfd99c8",
   "metadata": {},
   "outputs": [
    {
     "data": {
      "text/plain": [
       "tensor([[1.0000, 0.0000, 0.0000, 0.0000, 0.0000, 0.0000, 0.0000, 0.0000],\n",
       "        [0.5000, 0.5000, 0.0000, 0.0000, 0.0000, 0.0000, 0.0000, 0.0000],\n",
       "        [0.3333, 0.3333, 0.3333, 0.0000, 0.0000, 0.0000, 0.0000, 0.0000],\n",
       "        [0.2500, 0.2500, 0.2500, 0.2500, 0.0000, 0.0000, 0.0000, 0.0000],\n",
       "        [0.2000, 0.2000, 0.2000, 0.2000, 0.2000, 0.0000, 0.0000, 0.0000],\n",
       "        [0.1667, 0.1667, 0.1667, 0.1667, 0.1667, 0.1667, 0.0000, 0.0000],\n",
       "        [0.1429, 0.1429, 0.1429, 0.1429, 0.1429, 0.1429, 0.1429, 0.0000],\n",
       "        [0.1250, 0.1250, 0.1250, 0.1250, 0.1250, 0.1250, 0.1250, 0.1250]])"
      ]
     },
     "execution_count": 28,
     "metadata": {},
     "output_type": "execute_result"
    }
   ],
   "source": [
    "weigths = torch.tril(torch.ones(T, T))\n",
    "weigths = weigths / weigths.sum(dim=1, keepdim=True)\n",
    "weigths"
   ]
  },
  {
   "cell_type": "markdown",
   "id": "f785c1bb",
   "metadata": {},
   "source": [
    "Matrix multiplication:"
   ]
  },
  {
   "cell_type": "code",
   "execution_count": 29,
   "id": "4be2f7c0",
   "metadata": {},
   "outputs": [
    {
     "data": {
      "text/plain": [
       "True"
      ]
     },
     "execution_count": 29,
     "metadata": {},
     "output_type": "execute_result"
    }
   ],
   "source": [
    "xbow2 = weigths @ x #(B,T,T) @ (B,T,C) --> (B,T,C)\n",
    "torch.allclose(xbow, xbow2)"
   ]
  },
  {
   "cell_type": "code",
   "execution_count": 30,
   "id": "1a3c0933",
   "metadata": {},
   "outputs": [
    {
     "data": {
      "text/plain": [
       "(tensor([[0.2919, 0.2857],\n",
       "         [0.3470, 0.3751],\n",
       "         [0.5481, 0.3355],\n",
       "         [0.5772, 0.4669],\n",
       "         [0.5325, 0.4404],\n",
       "         [0.5652, 0.4636],\n",
       "         [0.5551, 0.5378],\n",
       "         [0.5499, 0.5028]]),\n",
       " tensor([[0.2919, 0.2857],\n",
       "         [0.3470, 0.3751],\n",
       "         [0.5481, 0.3355],\n",
       "         [0.5772, 0.4669],\n",
       "         [0.5325, 0.4404],\n",
       "         [0.5652, 0.4636],\n",
       "         [0.5551, 0.5378],\n",
       "         [0.5499, 0.5028]]))"
      ]
     },
     "execution_count": 30,
     "metadata": {},
     "output_type": "execute_result"
    }
   ],
   "source": [
    "xbow[0], xbow2[0]"
   ]
  },
  {
   "cell_type": "markdown",
   "id": "b88ec1b2",
   "metadata": {},
   "source": [
    "Softmax:"
   ]
  },
  {
   "cell_type": "code",
   "execution_count": 32,
   "id": "5bab92a6",
   "metadata": {},
   "outputs": [
    {
     "data": {
      "text/plain": [
       "True"
      ]
     },
     "execution_count": 32,
     "metadata": {},
     "output_type": "execute_result"
    }
   ],
   "source": [
    "tril = torch.tril(torch.ones(T,T))\n",
    "weigths = torch.zeros((T,T))\n",
    "weigths = weigths.masked_fill(tril == 0, float(\"-inf\"))\n",
    "weigths = F.softmax(weigths, dim=-1)\n",
    "\n",
    "xbow3 = weigths @ x\n",
    "torch.allclose(xbow, xbow3)"
   ]
  },
  {
   "cell_type": "code",
   "execution_count": 33,
   "id": "36a4aabd",
   "metadata": {
    "scrolled": true
   },
   "outputs": [
    {
     "name": "stdout",
     "output_type": "stream",
     "text": [
      "tensor([[[0.6645, 0.8609],\n",
      "         [0.3538, 0.3347],\n",
      "         [0.7285, 0.5794],\n",
      "         [0.4946, 0.9831],\n",
      "         [0.5134, 0.2580],\n",
      "         [0.5002, 0.6152],\n",
      "         [0.6283, 0.6972],\n",
      "         [0.5420, 0.5651]],\n",
      "\n",
      "        [[0.0891, 0.8486],\n",
      "         [0.1901, 0.3035],\n",
      "         [0.6512, 0.4057],\n",
      "         [0.8156, 0.6753],\n",
      "         [0.9405, 0.6498],\n",
      "         [0.6329, 0.6110],\n",
      "         [0.1847, 0.5707],\n",
      "         [0.6729, 0.3982]],\n",
      "\n",
      "        [[0.2390, 0.2084],\n",
      "         [0.7921, 0.1592],\n",
      "         [0.9983, 0.4600],\n",
      "         [0.6405, 0.8427],\n",
      "         [0.8737, 0.6508],\n",
      "         [0.1006, 0.5123],\n",
      "         [0.2961, 0.0813],\n",
      "         [0.3255, 0.7400]],\n",
      "\n",
      "        [[0.5685, 0.9510],\n",
      "         [0.2281, 0.7452],\n",
      "         [0.9047, 0.1822],\n",
      "         [0.9578, 0.7193],\n",
      "         [0.4830, 0.3722],\n",
      "         [0.2317, 0.9074],\n",
      "         [0.6607, 0.4544],\n",
      "         [0.9629, 0.2350]]])\n",
      "tensor([[1., 1.],\n",
      "        [1., 1.],\n",
      "        [1., 1.],\n",
      "        [1., 1.],\n",
      "        [1., 1.],\n",
      "        [1., 1.],\n",
      "        [1., 1.],\n",
      "        [1., 1.]])\n",
      "tensor([[[1.6645, 1.8609],\n",
      "         [1.3538, 1.3347],\n",
      "         [1.7285, 1.5794],\n",
      "         [1.4946, 1.9831],\n",
      "         [1.5134, 1.2580],\n",
      "         [1.5002, 1.6152],\n",
      "         [1.6283, 1.6972],\n",
      "         [1.5420, 1.5651]],\n",
      "\n",
      "        [[1.0891, 1.8486],\n",
      "         [1.1901, 1.3035],\n",
      "         [1.6512, 1.4057],\n",
      "         [1.8156, 1.6753],\n",
      "         [1.9405, 1.6498],\n",
      "         [1.6329, 1.6110],\n",
      "         [1.1847, 1.5707],\n",
      "         [1.6729, 1.3982]],\n",
      "\n",
      "        [[1.2390, 1.2084],\n",
      "         [1.7921, 1.1592],\n",
      "         [1.9983, 1.4600],\n",
      "         [1.6405, 1.8427],\n",
      "         [1.8737, 1.6508],\n",
      "         [1.1006, 1.5123],\n",
      "         [1.2961, 1.0813],\n",
      "         [1.3255, 1.7400]],\n",
      "\n",
      "        [[1.5685, 1.9510],\n",
      "         [1.2281, 1.7452],\n",
      "         [1.9047, 1.1822],\n",
      "         [1.9578, 1.7193],\n",
      "         [1.4830, 1.3722],\n",
      "         [1.2317, 1.9074],\n",
      "         [1.6607, 1.4544],\n",
      "         [1.9629, 1.2350]]])\n"
     ]
    }
   ],
   "source": [
    "a = torch.rand((4,8,2)) \n",
    "b = torch.ones((8,2))\n",
    "print(a)\n",
    "print(b)\n",
    "print(a+b)"
   ]
  },
  {
   "cell_type": "code",
   "execution_count": null,
   "id": "255cbaff",
   "metadata": {},
   "outputs": [],
   "source": []
  }
 ],
 "metadata": {
  "kernelspec": {
   "display_name": "Python (gpt)",
   "language": "python",
   "name": "gpt"
  },
  "language_info": {
   "codemirror_mode": {
    "name": "ipython",
    "version": 3
   },
   "file_extension": ".py",
   "mimetype": "text/x-python",
   "name": "python",
   "nbconvert_exporter": "python",
   "pygments_lexer": "ipython3",
   "version": "3.10.13"
  }
 },
 "nbformat": 4,
 "nbformat_minor": 5
}
